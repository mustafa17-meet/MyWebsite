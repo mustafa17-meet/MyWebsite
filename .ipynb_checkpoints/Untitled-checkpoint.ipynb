{
 "cells": [
  {
   "cell_type": "code",
   "execution_count": 1,
   "metadata": {
    "collapsed": false
   },
   "outputs": [],
   "source": [
    "from Database import * "
   ]
  },
  {
   "cell_type": "code",
   "execution_count": 4,
   "metadata": {
    "collapsed": false
   },
   "outputs": [],
   "source": [
    "# Make 3 new users\n",
    "\n",
    "lorenzo = User(name = \"Lorenzo Brown\", email = \"lobrown@meet.mit.edu\", date_of_birth = \"November 29, 1987\")\n",
    "lorenzo.hash_password(\"ThisIsMyPassword\")\n",
    "session.add(lorenzo)\n",
    "session.commit()\n",
    "\n",
    "\n",
    "mustafa = User(name = \"Mustafa Rizeq\", email = \"mustafa17@meet.mit.edu\", date_of_birth = \"August 10, 2000\")\n",
    "mustafa.hash_password(\"m123\")\n",
    "session.add(mustafa)\n",
    "session.commit()\n",
    "\n",
    "mustafa = User(name = \"Mustafa Rizeq\", email = \"mustafa17@meet.mit.edu\", date_of_birth = \"August 10, 2000\")\n",
    "mustafa.hash_password(\"m123\")\n",
    "session.add(mustafa)\n",
    "session.commit()\n",
    "\n"
   ]
  },
  {
   "cell_type": "code",
   "execution_count": null,
   "metadata": {
    "collapsed": true
   },
   "outputs": [],
   "source": [
    "# Make a new team\n",
    "meet = Team(name = \"meet\", members = \"mustafa,\")"
   ]
  }
 ],
 "metadata": {
  "kernelspec": {
   "display_name": "Python 2",
   "language": "python",
   "name": "python2"
  },
  "language_info": {
   "codemirror_mode": {
    "name": "ipython",
    "version": 2
   },
   "file_extension": ".py",
   "mimetype": "text/x-python",
   "name": "python",
   "nbconvert_exporter": "python",
   "pygments_lexer": "ipython2",
   "version": "2.7.11+"
  }
 },
 "nbformat": 4,
 "nbformat_minor": 2
}
